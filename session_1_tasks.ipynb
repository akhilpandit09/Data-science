{
  "nbformat": 4,
  "nbformat_minor": 0,
  "metadata": {
    "colab": {
      "provenance": [],
      "include_colab_link": true
    },
    "kernelspec": {
      "name": "python3",
      "display_name": "Python 3"
    },
    "language_info": {
      "name": "python"
    }
  },
  "cells": [
    {
      "cell_type": "markdown",
      "metadata": {
        "id": "view-in-github",
        "colab_type": "text"
      },
      "source": [
        "<a href=\"https://colab.research.google.com/github/akhilpandit09/Data-science/blob/main/session_1_tasks.ipynb\" target=\"_parent\"><img src=\"https://colab.research.google.com/assets/colab-badge.svg\" alt=\"Open In Colab\"/></a>"
      ]
    },
    {
      "cell_type": "markdown",
      "source": [
        "# Task : Session 1\n",
        "Solve these questions own your own and try to test yourself what you have learned in the session.\n",
        "\n",
        "Happy Learning!"
      ],
      "metadata": {
        "id": "A05OG15VqOPF"
      }
    },
    {
      "cell_type": "markdown",
      "source": [
        "### Q1 :- Print the given strings as per stated format.\n",
        "\n",
        "**Given strings**: \n",
        "```\n",
        "\"Data\" \"Science\" \"Mentorship\" \"Program\" \n",
        "\"By\" \"CampusX\"\n",
        "```\n",
        "**Output**: \n",
        "``` \n",
        "Data-Science-Mentorship-Program-started-By-CampusX\n",
        "```\n",
        "\n",
        "Concept- [Seperator and End]"
      ],
      "metadata": {
        "id": "2doIXf8bqe9_"
      }
    },
    {
      "cell_type": "code",
      "source": [
        "# Write your code here\n",
        "print(\"Data\",end='-')\n",
        "print('Science',end='-')\n",
        "print('Mentorship',end='-')\n",
        "print('Program',end='-')\n",
        "print('program',end='-')\n",
        "print('started',end='-')\n",
        "print('By',end='-')\n",
        "print('CampusX')"
      ],
      "metadata": {
        "id": "-em6d3KErDtp",
        "outputId": "0142d194-d688-45a4-b346-ec66a851435d",
        "colab": {
          "base_uri": "https://localhost:8080/"
        }
      },
      "execution_count": 6,
      "outputs": [
        {
          "output_type": "stream",
          "name": "stdout",
          "text": [
            "Data-Science-Mentorship-Program-program-started-By-CampusX\n"
          ]
        }
      ]
    },
    {
      "cell_type": "markdown",
      "source": [
        "### Q2:- Write a program that will convert celsius value to fahrenheit."
      ],
      "metadata": {
        "id": "1KUpN7ZTrC3_"
      }
    },
    {
      "cell_type": "code",
      "source": [
        "# Write your code here\n",
        "data=float(input(\"Enter the celcius value:\"))\n",
        "value=(9/5)*data+32\n",
        "print(value)"
      ],
      "metadata": {
        "id": "yxKYhYQiqWfj",
        "outputId": "ea7c4b42-9897-49d2-80db-3c324104dad6",
        "colab": {
          "base_uri": "https://localhost:8080/"
        }
      },
      "execution_count": 8,
      "outputs": [
        {
          "output_type": "stream",
          "name": "stdout",
          "text": [
            "Enter the celcius value:32\n",
            "89.6\n"
          ]
        }
      ]
    },
    {
      "cell_type": "markdown",
      "source": [
        "### Q3:- Take 2 numbers as input from the user.Write a program to swap the numbers without using any special python syntax."
      ],
      "metadata": {
        "id": "RLrOBBJurLB2"
      }
    },
    {
      "cell_type": "code",
      "source": [
        "# Write your code here\n",
        "user1=input(\"Enter first number:\")\n",
        "user2=input(\"Enter second number:\")\n",
        "\n",
        "# displaying number before swapping\n",
        "print(\"\\nBefore swapping\")\n",
        "print(\"First number {}\".format(user1))\n",
        "print(\"second number {}\".format(user2))\n",
        "\n",
        "# here we are swapping two number\n",
        "temp=user1\n",
        "user1=user2\n",
        "user2=temp\n",
        "\n",
        "# Displaying number after swapping\n",
        "print(\"\\nAfter swapping\")\n",
        "print(\"First number {}\".format(user1))\n",
        "print(\"Second number {}\".format(user2))\n",
        "\n",
        "\n"
      ],
      "metadata": {
        "id": "yPn7if0TrJ4F",
        "outputId": "07ac5c08-ba8b-406f-e12b-7bbd76873e0c",
        "colab": {
          "base_uri": "https://localhost:8080/"
        }
      },
      "execution_count": 12,
      "outputs": [
        {
          "output_type": "stream",
          "name": "stdout",
          "text": [
            "Enter first number:10\n",
            "Enter second number:89\n",
            "\n",
            "Before swapping\n",
            "First number 10\n",
            "second number 89\n",
            "\n",
            "After swapping\n",
            "First number 89\n",
            "Second number 10\n"
          ]
        }
      ]
    },
    {
      "cell_type": "markdown",
      "source": [
        "### Q4:- Write a program to find the euclidean distance between two coordinates.Take both the coordinates from the user as input."
      ],
      "metadata": {
        "id": "waLCP1bjr7ML"
      }
    },
    {
      "cell_type": "code",
      "source": [
        "# Write your code here\n",
        "import math\n",
        "x1=float(input(\"Enter x1 value:\"))\n",
        "x2=float(input(\"Enter x2 value:\"))\n",
        "y1=float(input(\"Enter y1 value:\"))\n",
        "y2=float(input(\"Enter y2 value:\"))\n",
        "\n",
        "# formula\n",
        "total=math.sqrt(pow((x2-x1),2)+ pow((y2-y1),2))\n",
        "\n",
        "print(\"Euclidean distance between two coordinate:\", total)\n"
      ],
      "metadata": {
        "id": "Pl1Sv-xnrxnH",
        "outputId": "c92b5a2f-334a-4e96-cad3-04621031c488",
        "colab": {
          "base_uri": "https://localhost:8080/"
        }
      },
      "execution_count": 13,
      "outputs": [
        {
          "output_type": "stream",
          "name": "stdout",
          "text": [
            "Enter x1 value:4\n",
            "Enter x2 value:2\n",
            "Enter y1 value:6\n",
            "Enter y2 value:3\n",
            "Euclidean distance between two coordinate: 3.605551275463989\n"
          ]
        }
      ]
    },
    {
      "cell_type": "markdown",
      "source": [
        "### Q5:- Write a program to find the simple interest when the value of principle,rate of interest and time period is provided by the user.\n"
      ],
      "metadata": {
        "id": "VLrhg-FRsHjR"
      }
    },
    {
      "cell_type": "code",
      "source": [
        "# Write your code here\n",
        "\n",
        "principle=float(input(\"Enter principle:\"))\n",
        "rate=float(input(\"Enter rate:\"))\n",
        "time=float(input(\"Enter time:\"))\n",
        "\n",
        "# formula is here\n",
        "total=(principle*time*rate)/100\n",
        "\n",
        "print(\"Simple Interest:\", total)"
      ],
      "metadata": {
        "id": "s40DlReZsTmY",
        "outputId": "ba328bb3-4e2f-4abf-b3bb-2ceccb0712c8",
        "colab": {
          "base_uri": "https://localhost:8080/"
        }
      },
      "execution_count": 14,
      "outputs": [
        {
          "output_type": "stream",
          "name": "stdout",
          "text": [
            "Enter principle:3400\n",
            "Enter rate:7.5\n",
            "Enter time:12\n",
            "Simple Interest: 3060.0\n"
          ]
        }
      ]
    },
    {
      "cell_type": "markdown",
      "source": [
        "### Q6:- Write a program that will tell the number of dogs and chicken are there when the user will provide the value of total heads and legs.\n",
        "\n",
        "For example:\n",
        "Input:\n",
        "heads -> 4\n",
        "legs -> 12\n",
        "<br>\n",
        "Output:\n",
        "dogs -> 2\n",
        "chicken -> 2\n",
        "\n",
        "\n",
        "\n"
      ],
      "metadata": {
        "id": "LMy0BTUktYKa"
      }
    },
    {
      "cell_type": "code",
      "source": [
        "# Write your code here\n",
        "heads=int(input(\"Enter the total number of heads:\"))\n",
        "legs=int(input(\"Enter the total numbers of legs:\"))\n",
        "# if else condition will check the given heads and legs are valid or not\n",
        "if(legs%2!=0 or heads==0 or legs>heads):\n",
        "  print(\"Invalid! Try again\")\n",
        "\n",
        "else:\n",
        "  dogs=(legs-2*heads)/2\n",
        "  chickens=(heads-dogs)\n",
        "\n",
        "  print(\"Number of dogs:\",int(dogs))\n",
        "  print(\"Number of chickens:\",int (chickens))"
      ],
      "metadata": {
        "id": "XSBvJoA4tXaG",
        "outputId": "e0a812e4-c06e-4deb-d15e-926605c099d0",
        "colab": {
          "base_uri": "https://localhost:8080/"
        }
      },
      "execution_count": 17,
      "outputs": [
        {
          "output_type": "stream",
          "name": "stdout",
          "text": [
            "Enter the total number of heads:3\n",
            "Enter the total numbers of legs:13\n",
            "Invalid! Try again\n"
          ]
        }
      ]
    },
    {
      "cell_type": "markdown",
      "source": [
        "### Q7:- Write a program to find the sum of squares of first n natural numbers where n will be provided by the user."
      ],
      "metadata": {
        "id": "gJ7C5kZYt4BP"
      }
    },
    {
      "cell_type": "code",
      "source": [
        "# Write your code here\n",
        "\n",
        "# taking input from the user\n",
        "user=int(input(\"Enter a integer:\"))\n",
        "\n",
        "value=(user*(user+1)*(2*user+1))/6\n",
        "\n",
        "print(\"Sum of squares of first n natural numbers:\",int(value))"
      ],
      "metadata": {
        "id": "_tHsmEHzt2nX",
        "outputId": "477fe3fb-8e70-4c10-bd3e-8033545571de",
        "colab": {
          "base_uri": "https://localhost:8080/"
        }
      },
      "execution_count": 19,
      "outputs": [
        {
          "output_type": "stream",
          "name": "stdout",
          "text": [
            "Enter a integer:10\n",
            "Sum of squares of first n natural numbers: 385.0\n"
          ]
        }
      ]
    },
    {
      "cell_type": "markdown",
      "source": [
        "### Q8:- Given the first 2 terms of an Arithmetic Series.Find the Nth term of the series. Assume all inputs are provided by the user."
      ],
      "metadata": {
        "id": "FHrMM7g-yG1h"
      }
    },
    {
      "cell_type": "code",
      "source": [
        "# Write your code here"
      ],
      "metadata": {
        "id": "go4_kmZmyVSx"
      },
      "execution_count": null,
      "outputs": []
    },
    {
      "cell_type": "markdown",
      "source": [
        "### Q9:- Given 2 fractions, find the sum of those 2 fractions.Take the numerator and denominator values of the fractions from the user."
      ],
      "metadata": {
        "id": "QgyRX_es1oum"
      }
    },
    {
      "cell_type": "code",
      "source": [
        "# Write your code here\n",
        "\n",
        "# here we are taking the first fraction values\n",
        "f_num1=float(input(\"Enter numerator value of first fraction:\"))\n",
        "f_den1=float(input(\"Enter denominator value of first fraction:\"))\n",
        "\n",
        "f_num2=float(input(\"Enter numerator value of second fraction:\"))\n",
        "f_den2=float(input(\"Enter denominator value of second fraction:\"))\n",
        "\n",
        "first_fraction=f_num1/f_den1\n",
        "second_fraction=f_num2/f_den2\n",
        "\n",
        "print(\"Sum of given two fraction:\", first_fraction + second_fraction)"
      ],
      "metadata": {
        "id": "X05xqFS1yW16",
        "outputId": "ee9d8f5b-06c2-45f0-fb95-61e679d8f3fb",
        "colab": {
          "base_uri": "https://localhost:8080/"
        }
      },
      "execution_count": 20,
      "outputs": [
        {
          "output_type": "stream",
          "name": "stdout",
          "text": [
            "Enter numerator value of first fraction:3\n",
            "Enter denominator value of first fraction:2\n",
            "Enter numerator value of second fraction:5\n",
            "Enter denominator value of second fraction:4\n",
            "Sum of given two fraction: 2.75\n"
          ]
        }
      ]
    },
    {
      "cell_type": "markdown",
      "source": [
        "### Q10:- Given the height, width and breadth of a milk tank, you have to find out how many glasses of milk can be obtained? Assume all the inputs are provided by the user.\n",
        "\n",
        "\n",
        "\n",
        "Input:<br>\n",
        "Dimensions of the milk tank<br>\n",
        "H = 20cm, L = 20cm, B = 20cm\n",
        "<br><br>\n",
        "Dimensions of the glass<br>\n",
        "h = 3cm, r = 1cm"
      ],
      "metadata": {
        "id": "eaql38ln13u7"
      }
    },
    {
      "cell_type": "code",
      "source": [
        "# Write your code here\n",
        "\n",
        "# input the height, length, and breadth\n",
        "l,b,h=float(input(\"Enter the length:\")),float(input(\"Enter the breadth:\")),float(input(\"Enter the height:\"))\n",
        "tank_volume=l*b*h\n",
        "\n",
        "h,r=float(input(\"Enter the height of glass:\")),float(input(\"Enter the radius of glass:\"))\n",
        "glass_volume=(math.pi)*pow(r,2)*h\n",
        "\n",
        "number=tank_volume/glass_volume\n",
        "\n",
        "print(\"Number of glasses= \",number)\n",
        "  "
      ],
      "metadata": {
        "id": "FePZqno74eWv",
        "outputId": "875ef453-87e8-4e5b-83b8-225953bc46e5",
        "colab": {
          "base_uri": "https://localhost:8080/"
        }
      },
      "execution_count": 25,
      "outputs": [
        {
          "output_type": "stream",
          "name": "stdout",
          "text": [
            "Enter the length:20\n",
            "Enter the breadth:20\n",
            "Enter the height:20\n",
            "Enter the height of glass:3\n",
            "Enter the radius of glass:1\n",
            "Number of glasses=  848.8263631567752\n"
          ]
        }
      ]
    },
    {
      "cell_type": "code",
      "source": [],
      "metadata": {
        "id": "QxeB9rIBtCgW"
      },
      "execution_count": null,
      "outputs": []
    }
  ]
}